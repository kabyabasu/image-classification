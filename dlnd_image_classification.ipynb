{
 "cells": [
  {
   "cell_type": "markdown",
   "metadata": {
    "collapsed": true
   },
   "source": [
    "# Image Classification\n",
    "In this project, you'll classify images from the [CIFAR-10 dataset](https://www.cs.toronto.edu/~kriz/cifar.html).  The dataset consists of airplanes, dogs, cats, and other objects. You'll preprocess the images, then train a convolutional neural network on all the samples. The images need to be normalized and the labels need to be one-hot encoded.  You'll get to apply what you learned and build a convolutional, max pooling, dropout, and fully connected layers.  At the end, you'll get to see your neural network's predictions on the sample images.\n",
    "## Get the Data\n",
    "Run the following cell to download the [CIFAR-10 dataset for python](https://www.cs.toronto.edu/~kriz/cifar-10-python.tar.gz)."
   ]
  },
  {
   "cell_type": "code",
   "execution_count": 1,
   "metadata": {
    "collapsed": false
   },
   "outputs": [
    {
     "name": "stdout",
     "output_type": "stream",
     "text": [
      "All files found!\n"
     ]
    }
   ],
   "source": [
    "\"\"\"\n",
    "DON'T MODIFY ANYTHING IN THIS CELL THAT IS BELOW THIS LINE\n",
    "\"\"\"\n",
    "from urllib.request import urlretrieve\n",
    "from os.path import isfile, isdir\n",
    "from tqdm import tqdm\n",
    "import problem_unittests as tests\n",
    "import tarfile\n",
    "\n",
    "cifar10_dataset_folder_path = 'cifar-10-batches-py'\n",
    "\n",
    "# Use Floyd's cifar-10 dataset if present\n",
    "floyd_cifar10_location = '/input/cifar-10/python.tar.gz'\n",
    "if isfile(floyd_cifar10_location):\n",
    "    tar_gz_path = floyd_cifar10_location\n",
    "else:\n",
    "    tar_gz_path = 'cifar-10-python.tar.gz'\n",
    "\n",
    "class DLProgress(tqdm):\n",
    "    last_block = 0\n",
    "\n",
    "    def hook(self, block_num=1, block_size=1, total_size=None):\n",
    "        self.total = total_size\n",
    "        self.update((block_num - self.last_block) * block_size)\n",
    "        self.last_block = block_num\n",
    "\n",
    "if not isfile(tar_gz_path):\n",
    "    with DLProgress(unit='B', unit_scale=True, miniters=1, desc='CIFAR-10 Dataset') as pbar:\n",
    "        urlretrieve(\n",
    "            'https://www.cs.toronto.edu/~kriz/cifar-10-python.tar.gz',\n",
    "            tar_gz_path,\n",
    "            pbar.hook)\n",
    "\n",
    "if not isdir(cifar10_dataset_folder_path):\n",
    "    with tarfile.open(tar_gz_path) as tar:\n",
    "        tar.extractall()\n",
    "        tar.close()\n",
    "\n",
    "\n",
    "tests.test_folder_path(cifar10_dataset_folder_path)"
   ]
  },
  {
   "cell_type": "markdown",
   "metadata": {},
   "source": [
    "## Explore the Data\n",
    "The dataset is broken into batches to prevent your machine from running out of memory.  The CIFAR-10 dataset consists of 5 batches, named `data_batch_1`, `data_batch_2`, etc.. Each batch contains the labels and images that are one of the following:\n",
    "* airplane\n",
    "* automobile\n",
    "* bird\n",
    "* cat\n",
    "* deer\n",
    "* dog\n",
    "* frog\n",
    "* horse\n",
    "* ship\n",
    "* truck\n",
    "\n",
    "Understanding a dataset is part of making predictions on the data.  Play around with the code cell below by changing the `batch_id` and `sample_id`. The `batch_id` is the id for a batch (1-5). The `sample_id` is the id for a image and label pair in the batch.\n",
    "\n",
    "Ask yourself \"What are all possible labels?\", \"What is the range of values for the image data?\", \"Are the labels in order or random?\".  Answers to questions like these will help you preprocess the data and end up with better predictions."
   ]
  },
  {
   "cell_type": "code",
   "execution_count": 2,
   "metadata": {
    "collapsed": false
   },
   "outputs": [
    {
     "name": "stdout",
     "output_type": "stream",
     "text": [
      "\n",
      "Stats of batch 5:\n",
      "Samples: 10000\n",
      "Label Counts: {0: 1014, 1: 1014, 2: 952, 3: 1016, 4: 997, 5: 1025, 6: 980, 7: 977, 8: 1003, 9: 1022}\n",
      "First 20 Labels: [1, 8, 5, 1, 5, 7, 4, 3, 8, 2, 7, 2, 0, 1, 5, 9, 6, 2, 0, 8]\n",
      "\n",
      "Example of Image 100:\n",
      "Image - Min Value: 5 Max Value: 255\n",
      "Image - Shape: (32, 32, 3)\n",
      "Label - Label Id: 9 Name: truck\n"
     ]
    },
    {
     "data": {
      "image/png": "[encoded data removed]",
      "text/plain": [
       "<matplotlib.figure.Figure at 0x7f7f6a24ada0>"
      ]
     },
     "metadata": {
      "image/png": {
       "height": 250,
       "width": 253
      }
     },
     "output_type": "display_data"
    }
   ],
   "source": [
    "%matplotlib inline\n",
    "%config InlineBackend.figure_format = 'retina'\n",
    "\n",
    "import helper\n",
    "import numpy as np\n",
    "\n",
    "# Explore the dataset\n",
    "batch_id = 5\n",
    "sample_id = 100\n",
    "helper.display_stats(cifar10_dataset_folder_path, batch_id, sample_id)"
   ]
  },
  {
   "cell_type": "markdown",
   "metadata": {},
   "source": [
    "## Implement Preprocess Functions\n",
    "### Normalize\n",
    "In the cell below, implement the `normalize` function to take in image data, `x`, and return it as a normalized Numpy array. The values should be in the range of 0 to 1, inclusive.  The return object should be the same shape as `x`."
   ]
  },
  {
   "cell_type": "code",
   "execution_count": 3,
   "metadata": {
    "collapsed": false
   },
   "outputs": [
    {
     "name": "stdout",
     "output_type": "stream",
     "text": [
      "Tests Passed\n"
     ]
    }
   ],
   "source": [
    "def normalize(x):\n",
    "    \"\"\"\n",
    "    Normalize a list of sample image data in the range of 0 to 1\n",
    "    : x: List of image data.  The image shape is (32, 32, 3)\n",
    "    : return: Numpy array of normalize data\n",
    "    \"\"\"\n",
    "    # TODO: Implement Function\n",
    "    min = np.min(x)\n",
    "    max = np.max(x)\n",
    "    return (x - min)/(max - min)\n",
    "\n",
    "\n",
    "\n",
    "\"\"\"\n",
    "DON'T MODIFY ANYTHING IN THIS CELL THAT IS BELOW THIS LINE\n",
    "\"\"\"\n",
    "tests.test_normalize(normalize)"
   ]
  },
  {
   "cell_type": "markdown",
   "metadata": {},
   "source": [
    "### One-hot encode\n",
    "Just like the previous code cell, you'll be implementing a function for preprocessing.  This time, you'll implement the `one_hot_encode` function. The input, `x`, are a list of labels.  Implement the function to return the list of labels as One-Hot encoded Numpy array.  The possible values for labels are 0 to 9. The one-hot encoding function should return the same encoding for each value between each call to `one_hot_encode`.  Make sure to save the map of encodings outside the function.\n",
    "\n",
    "Hint: Don't reinvent the wheel."
   ]
  },
  {
   "cell_type": "code",
   "execution_count": 4,
   "metadata": {
    "collapsed": false
   },
   "outputs": [
    {
     "name": "stdout",
     "output_type": "stream",
     "text": [
      "Tests Passed\n"
     ]
    }
   ],
   "source": [
    "import numpy as np\n",
    "from sklearn import preprocessing\n",
    "\n",
    "def one_hot_encode(x):\n",
    "    \"\"\"\n",
    "    One hot encode a list of sample labels. Return a one-hot encoded vector for each label.\n",
    "    : x: List of sample Labels\n",
    "    : return: Numpy array of one-hot encoded labels\n",
    "    \"\"\"\n",
    "    # TODO: Implement Function\n",
    "\n",
    "    return np.eye(10)[x]\n",
    "\n",
    "\n",
    "\"\"\")\n",
    "DON'T MODIFY ANYTHING IN THIS CELL THAT IS BELOW THIS LINE\n",
    "\"\"\"\n",
    "tests.test_one_hot_encode(one_hot_encode)"
   ]
  },
  {
   "cell_type": "markdown",
   "metadata": {},
   "source": [
    "### Randomize Data\n",
    "As you saw from exploring the data above, the order of the samples are randomized.  It doesn't hurt to randomize it again, but you don't need to for this dataset."
   ]
  },
  {
   "cell_type": "markdown",
   "metadata": {},
   "source": [
    "## Preprocess all the data and save it\n",
    "Running the code cell below will preprocess all the CIFAR-10 data and save it to file. The code below also uses 10% of the training data for validation."
   ]
  },
  {
   "cell_type": "code",
   "execution_count": 5,
   "metadata": {
    "collapsed": false
   },
   "outputs": [],
   "source": [
    "\"\"\"\n",
    "DON'T MODIFY ANYTHING IN THIS CELL\n",
    "\"\"\"\n",
    "# Preprocess Training, Validation, and Testing Data\n",
    "helper.preprocess_and_save_data(cifar10_dataset_folder_path, normalize, one_hot_encode)"
   ]
  },
  {
   "cell_type": "markdown",
   "metadata": {},
   "source": [
    "# Check Point\n",
    "This is your first checkpoint.  If you ever decide to come back to this notebook or have to restart the notebook, you can start from here.  The preprocessed data has been saved to disk."
   ]
  },
  {
   "cell_type": "code",
   "execution_count": 9,
   "metadata": {
    "collapsed": true
   },
   "outputs": [],
   "source": [
    "\"\"\"\n",
    "DON'T MODIFY ANYTHING IN THIS CELL\n",
    "\"\"\"\n",
    "import pickle\n",
    "import problem_unittests as tests\n",
    "import helper\n",
    "\n",
    "# Load the Preprocessed Validation data\n",
    "valid_features, valid_labels = pickle.load(open('preprocess_validation.p', mode='rb'))"
   ]
  },
  {
   "cell_type": "markdown",
   "metadata": {},
   "source": [
    "## Build the network\n",
    "For the neural network, you'll build each layer into a function.  Most of the code you've seen has been outside of functions. To test your code more thoroughly, we require that you put each layer in a function.  This allows us to give you better feedback and test for simple mistakes using our unittests before you submit your project.\n",
    "\n",
    ">**Note:** If you're finding it hard to dedicate enough time for this course each week, we've provided a small shortcut to this part of the project. In the next couple of problems, you'll have the option to use classes from the [TensorFlow Layers](https://www.tensorflow.org/api_docs/python/tf/layers) or [TensorFlow Layers (contrib)](https://www.tensorflow.org/api_guides/python/contrib.layers) packages to build each layer, except the layers you build in the \"Convolutional and Max Pooling Layer\" section.  TF Layers is similar to Keras's and TFLearn's abstraction to layers, so it's easy to pickup.\n",
    "\n",
    ">However, if you would like to get the most out of this course, try to solve all the problems _without_ using anything from the TF Layers packages. You **can** still use classes from other packages that happen to have the same name as ones you find in TF Layers! For example, instead of using the TF Layers version of the `conv2d` class, [tf.layers.conv2d](https://www.tensorflow.org/api_docs/python/tf/layers/conv2d), you would want to use the TF Neural Network version of `conv2d`, [tf.nn.conv2d](https://www.tensorflow.org/api_docs/python/tf/nn/conv2d). \n",
    "\n",
    "Let's begin!\n",
    "\n",
    "### Input\n",
    "The neural network needs to read the image data, one-hot encoded labels, and dropout keep probability. Implement the following functions\n",
    "* Implement `neural_net_image_input`\n",
    " * Return a [TF Placeholder](https://www.tensorflow.org/api_docs/python/tf/placeholder)\n",
    " * Set the shape using `image_shape` with batch size set to `None`.\n",
    " * Name the TensorFlow placeholder \"x\" using the TensorFlow `name` parameter in the [TF Placeholder](https://www.tensorflow.org/api_docs/python/tf/placeholder).\n",
    "* Implement `neural_net_label_input`\n",
    " * Return a [TF Placeholder](https://www.tensorflow.org/api_docs/python/tf/placeholder)\n",
    " * Set the shape using `n_classes` with batch size set to `None`.\n",
    " * Name the TensorFlow placeholder \"y\" using the TensorFlow `name` parameter in the [TF Placeholder](https://www.tensorflow.org/api_docs/python/tf/placeholder).\n",
    "* Implement `neural_net_keep_prob_input`\n",
    " * Return a [TF Placeholder](https://www.tensorflow.org/api_docs/python/tf/placeholder) for dropout keep probability.\n",
    " * Name the TensorFlow placeholder \"keep_prob\" using the TensorFlow `name` parameter in the [TF Placeholder](https://www.tensorflow.org/api_docs/python/tf/placeholder).\n",
    "\n",
    "These names will be used at the end of the project to load your saved model.\n",
    "\n",
    "Note: `None` for shapes in TensorFlow allow for a dynamic size."
   ]
  },
  {
   "cell_type": "code",
   "execution_count": 10,
   "metadata": {
    "collapsed": false
   },
   "outputs": [
    {
     "name": "stdout",
     "output_type": "stream",
     "text": [
      "Image Input Tests Passed.\n",
      "Label Input Tests Passed.\n",
      "Keep Prob Tests Passed.\n"
     ]
    }
   ],
   "source": [
    "import tensorflow as tf\n",
    "\n",
    "def neural_net_image_input(image_shape):\n",
    "    \"\"\"\n",
    "    Return a Tensor for a batch of image input\n",
    "    : image_shape: Shape of the images\n",
    "    : return: Tensor for image input.\n",
    "    \"\"\"\n",
    "    # TODO: Implement Function\n",
    "    return tf.placeholder(tf.float32,shape=[None,*image_shape],name='x')\n",
    "\n",
    "\n",
    "def neural_net_label_input(n_classes):\n",
    "    \"\"\"\n",
    "    Return a Tensor for a batch of label input\n",
    "    : n_classes: Number of classes\n",
    "    : return: Tensor for label input.\n",
    "    \"\"\"\n",
    "    # TODO: Implement Function\n",
    "    return tf.placeholder(tf.float32,shape=[None,n_classes],name='y')\n",
    "\n",
    "def neural_net_keep_prob_input():\n",
    "    \"\"\"\n",
    "    Return a Tensor for keep probability\n",
    "    : return: Tensor for keep probability.\n",
    "    \"\"\"\n",
    "    # TODO: Implement Function\n",
    "    return tf.placeholder(tf.float32,name='keep_prob')\n",
    "\n",
    "\n",
    "\"\"\"\n",
    "DON'T MODIFY ANYTHING IN THIS CELL THAT IS BELOW THIS LINE\n",
    "\"\"\"\n",
    "tf.reset_default_graph()\n",
    "tests.test_nn_image_inputs(neural_net_image_input)\n",
    "tests.test_nn_label_inputs(neural_net_label_input)\n",
    "tests.test_nn_keep_prob_inputs(neural_net_keep_prob_input)"
   ]
  },
  {
   "cell_type": "markdown",
   "metadata": {},
   "source": [
    "### Convolution and Max Pooling Layer\n",
    "Convolution layers have a lot of success with images. For this code cell, you should implement the function `conv2d_maxpool` to apply convolution then max pooling:\n",
    "* Create the weight and bias using `conv_ksize`, `conv_num_outputs` and the shape of `x_tensor`.\n",
    "* Apply a convolution to `x_tensor` using weight and `conv_strides`.\n",
    " * We recommend you use same padding, but you're welcome to use any padding.\n",
    "* Add bias\n",
    "* Add a nonlinear activation to the convolution.\n",
    "* Apply Max Pooling using `pool_ksize` and `pool_strides`.\n",
    " * We recommend you use same padding, but you're welcome to use any padding.\n",
    "\n",
    "**Note:** You **can't** use [TensorFlow Layers](https://www.tensorflow.org/api_docs/python/tf/layers) or [TensorFlow Layers (contrib)](https://www.tensorflow.org/api_guides/python/contrib.layers) for **this** layer, but you can still use TensorFlow's [Neural Network](https://www.tensorflow.org/api_docs/python/tf/nn) package. You may still use the shortcut option for all the **other** layers."
   ]
  },
  {
   "cell_type": "code",
   "execution_count": 11,
   "metadata": {
    "collapsed": false
   },
   "outputs": [
    {
     "name": "stdout",
     "output_type": "stream",
     "text": [
      "Tests Passed\n"
     ]
    }
   ],
   "source": [
    "def conv2d_maxpool(x_tensor, conv_num_outputs, conv_ksize, conv_strides, pool_ksize, pool_strides):\n",
    "    \"\"\"\n",
    "    Apply convolution then max pooling to x_tensor\n",
    "    :param x_tensor: TensorFlow Tensor\n",
    "    :param conv_num_outputs: Number of outputs for the convolutional layer\n",
    "    :param conv_ksize: kernal size 2-D Tuple for the convolutional layer\n",
    "    :param conv_strides: Stride 2-D Tuple for convolution\n",
    "    :param pool_ksize: kernal size 2-D Tuple for pool\n",
    "    :param pool_strides: Stride 2-D Tuple for pool\n",
    "    : return: A tensor that represents convolution and max pooling of x_tensor\n",
    "    \"\"\"\n",
    "    # TODO: Implement Function\n",
    "    input_depth=int(x_tensor.shape[3])\n",
    "    output_depth=conv_num_outputs\n",
    "    W_shape=[*conv_ksize,input_depth,output_depth]\n",
    "    w=tf.Variable(tf.random_normal(W_shape,stddev=0.1))\n",
    "    b=tf.Variable(tf.zeros(output_depth))\n",
    "    strides=[1, *conv_strides,1]\n",
    "\n",
    "    x=tf.nn.conv2d(x_tensor,w,strides=strides,padding=\"SAME\")\n",
    "    x=tf.nn.bias_add(x,b)\n",
    "    x=tf.nn.relu(x)\n",
    "    \n",
    "    pool_size=[1,*pool_ksize,1]\n",
    "    pool_strides=[1,*pool_strides,1]\n",
    "    x=tf.nn.max_pool(x,pool_size,pool_strides,padding='SAME')\n",
    "    \n",
    "    return x\n",
    "\n",
    "\n",
    "\"\"\"\n",
    "DON'T MODIFY ANYTHING IN THIS CELL THAT IS BELOW THIS LINE\n",
    "\"\"\"\n",
    "tests.test_con_pool(conv2d_maxpool)"
   ]
  },
  {
   "cell_type": "markdown",
   "metadata": {},
   "source": [
    "### Flatten Layer\n",
    "Implement the `flatten` function to change the dimension of `x_tensor` from a 4-D tensor to a 2-D tensor.  The output should be the shape (*Batch Size*, *Flattened Image Size*). Shortcut option: you can use classes from the [TensorFlow Layers](https://www.tensorflow.org/api_docs/python/tf/layers) or [TensorFlow Layers (contrib)](https://www.tensorflow.org/api_guides/python/contrib.layers) packages for this layer. For more of a challenge, only use other TensorFlow packages."
   ]
  },
  {
   "cell_type": "code",
   "execution_count": 12,
   "metadata": {
    "collapsed": false
   },
   "outputs": [
    {
     "name": "stdout",
     "output_type": "stream",
     "text": [
      "Tests Passed\n"
     ]
    }
   ],
   "source": [
    "def flatten(x_tensor):\n",
    "    \"\"\"\n",
    "    Flatten x_tensor to (Batch Size, Flattened Image Size)\n",
    "    : x_tensor: A tensor of size (Batch Size, ...), where ... are the image dimensions.\n",
    "    : return: A tensor of size (Batch Size, Flattened Image Size).\n",
    "    \"\"\"\n",
    "    # TODO: Implement Function\n",
    "    return tf.contrib.layers.flatten(x_tensor)\n",
    "\n",
    "\n",
    "\"\"\"\n",
    "DON'T MODIFY ANYTHING IN THIS CELL THAT IS BELOW THIS LINE\n",
    "\"\"\"\n",
    "tests.test_flatten(flatten)"
   ]
  },
  {
   "cell_type": "markdown",
   "metadata": {},
   "source": [
    "### Fully-Connected Layer\n",
    "Implement the `fully_conn` function to apply a fully connected layer to `x_tensor` with the shape (*Batch Size*, *num_outputs*). Shortcut option: you can use classes from the [TensorFlow Layers](https://www.tensorflow.org/api_docs/python/tf/layers) or [TensorFlow Layers (contrib)](https://www.tensorflow.org/api_guides/python/contrib.layers) packages for this layer. For more of a challenge, only use other TensorFlow packages."
   ]
  },
  {
   "cell_type": "code",
   "execution_count": 13,
   "metadata": {
    "collapsed": false
   },
   "outputs": [
    {
     "name": "stdout",
     "output_type": "stream",
     "text": [
      "Tests Passed\n"
     ]
    }
   ],
   "source": [
    "def fully_conn(x_tensor, num_outputs):\n",
    "    \"\"\"\n",
    "    Apply a fully connected layer to x_tensor using weight and bias\n",
    "    : x_tensor: A 2-D tensor where the first dimension is batch size.\n",
    "    : num_outputs: The number of output that the new tensor should be.\n",
    "    : return: A 2-D tensor where the second dimension is num_outputs.\n",
    "    \"\"\"\n",
    "    # TODO: Implement Function\n",
    "    #Defining wight and bias\n",
    "    size=x_tensor.shape[1].value\n",
    "    w=tf.Variable(tf.truncated_normal([size,num_outputs],mean=0.0,stddev=0.1,dtype=tf.float32))\n",
    "    b=tf.Variable(tf.zeros(num_outputs))\n",
    "    \n",
    "    #applying matrix multiplication\n",
    "    layer=tf.matmul(x_tensor,w)\n",
    "    \n",
    "    #adding bias\n",
    "    \n",
    "    layer=tf.nn.bias_add(layer,b)\n",
    "    \n",
    "    layer=tf.nn.relu(layer)\n",
    "    \n",
    "    \n",
    "    return layer\n",
    "\n",
    "\n",
    "\"\"\"\n",
    "DON'T MODIFY ANYTHING IN THIS CELL THAT IS BELOW THIS LINE\n",
    "\"\"\"\n",
    "tests.test_fully_conn(fully_conn)"
   ]
  },
  {
   "cell_type": "markdown",
   "metadata": {},
   "source": [
    "### Output Layer\n",
    "Implement the `output` function to apply a fully connected layer to `x_tensor` with the shape (*Batch Size*, *num_outputs*). Shortcut option: you can use classes from the [TensorFlow Layers](https://www.tensorflow.org/api_docs/python/tf/layers) or [TensorFlow Layers (contrib)](https://www.tensorflow.org/api_guides/python/contrib.layers) packages for this layer. For more of a challenge, only use other TensorFlow packages.\n",
    "\n",
    "**Note:** Activation, softmax, or cross entropy should **not** be applied to this."
   ]
  },
  {
   "cell_type": "code",
   "execution_count": 14,
   "metadata": {
    "collapsed": false
   },
   "outputs": [
    {
     "name": "stdout",
     "output_type": "stream",
     "text": [
      "Tests Passed\n"
     ]
    }
   ],
   "source": [
    "def output(x_tensor, num_outputs):\n",
    "    \"\"\"\n",
    "    Apply a output layer to x_tensor using weight and bias\n",
    "    : x_tensor: A 2-D tensor where the first dimension is batch size.\n",
    "    : num_outputs: The number of output that the new tensor should be.\n",
    "    : return: A 2-D tensor where the second dimension is num_outputs.\n",
    "    \"\"\"\n",
    "    # TODO: Implement Function\n",
    "    \n",
    "    #Defining weight and bias\n",
    "    size=x_tensor.shape[1].value\n",
    "    w=tf.Variable(tf.truncated_normal([size,num_outputs],mean=0.0,stddev=1.0))\n",
    "    b=tf.Variable(tf.zeros(num_outputs))\n",
    "    \n",
    "    #matrix multiplication\n",
    "    layer=tf.matmul(x_tensor,w)\n",
    "    \n",
    "    #adding bias\n",
    "    \n",
    "    layer=tf.nn.bias_add(layer,b)\n",
    "    \n",
    "    \n",
    "    return layer\n",
    "\n",
    "\n",
    "\"\"\"\n",
    "DON'T MODIFY ANYTHING IN THIS CELL THAT IS BELOW THIS LINE\n",
    "\"\"\"\n",
    "tests.test_output(output)"
   ]
  },
  {
   "cell_type": "markdown",
   "metadata": {},
   "source": [
    "### Create Convolutional Model\n",
    "Implement the function `conv_net` to create a convolutional neural network model. The function takes in a batch of images, `x`, and outputs logits.  Use the layers you created above to create this model:\n",
    "\n",
    "* Apply 1, 2, or 3 Convolution and Max Pool layers\n",
    "* Apply a Flatten Layer\n",
    "* Apply 1, 2, or 3 Fully Connected Layers\n",
    "* Apply an Output Layer\n",
    "* Return the output\n",
    "* Apply [TensorFlow's Dropout](https://www.tensorflow.org/api_docs/python/tf/nn/dropout) to one or more layers in the model using `keep_prob`. "
   ]
  },
  {
   "cell_type": "code",
   "execution_count": 22,
   "metadata": {
    "collapsed": false
   },
   "outputs": [
    {
     "name": "stdout",
     "output_type": "stream",
     "text": [
      "Neural Network Built!\n"
     ]
    }
   ],
   "source": [
    "def conv_net(x, keep_prob):\n",
    "    \"\"\"\n",
    "    Create a convolutional neural network model\n",
    "    : x: Placeholder tensor that holds image data.\n",
    "    : keep_prob: Placeholder tensor that hold dropout keep probability.\n",
    "    : return: Tensor that represents logits\n",
    "    \"\"\"\n",
    "    conv_ksize=[4,4]\n",
    "    conv_strides=[1,1]\n",
    "    pool_ksize=[2,2]\n",
    "    pool_strides=[2,2]\n",
    "    \n",
    "    # TODO: Apply 1, 2, or 3 Convolution and Max Pool layers\n",
    "    #    Play around with different number of outputs, kernel size and stride\n",
    "    # Function Definition from Above:\n",
    "    #    conv2d_maxpool(x_tensor, conv_num_outputs, conv_ksize, conv_strides, pool_ksize, pool_strides)\n",
    "    layer1=conv2d_maxpool(x,16,conv_ksize,conv_strides,pool_ksize,pool_strides)\n",
    "    layer2=conv2d_maxpool(layer1,32,conv_ksize,conv_strides,pool_ksize,pool_strides)\n",
    "    layer3=conv2d_maxpool(layer2,64,conv_ksize,conv_strides,pool_ksize,pool_strides)\n",
    "    \n",
    "\n",
    "    # TODO: Apply a Flatten Layer\n",
    "    # Function Definition from Above:\n",
    "    #   flatten(x_tensor)\n",
    "    layer4=flatten(layer3)\n",
    "    \n",
    "\n",
    "    # TODO: Apply 1, 2, or 3 Fully Connected Layers\n",
    "    #    Play around with different number of outputs\n",
    "    # Function Definition from Above:\n",
    "    #   fully_conn(x_tensor, num_outputs)\n",
    "    \n",
    "    layer5=fully_conn(layer4,10)\n",
    "    layer6=fully_conn(layer5,10)\n",
    "    layer7=fully_conn(layer6,10)\n",
    "    layer8 = tf.nn.dropout(layer7, keep_prob)\n",
    "    \n",
    "    \n",
    "    # TODO: Apply an Output Layer\n",
    "    #    Set this to the number of classes\n",
    "    # Function Definition from Above:\n",
    "    #   output(x_tensor, num_outputs)\n",
    "    \n",
    "    output_layer=output(layer8,10)\n",
    "    \n",
    "    \n",
    "    # TODO: return output\n",
    "    return output_layer\n",
    "\n",
    "\n",
    "\"\"\"\n",
    "DON'T MODIFY ANYTHING IN THIS CELL THAT IS BELOW THIS LINE\n",
    "\"\"\"\n",
    "\n",
    "##############################\n",
    "## Build the Neural Network ##\n",
    "##############################\n",
    "\n",
    "# Remove previous weights, bias, inputs, etc..\n",
    "tf.reset_default_graph()\n",
    "\n",
    "# Inputs\n",
    "x = neural_net_image_input((32, 32, 3))\n",
    "y = neural_net_label_input(10)\n",
    "keep_prob = neural_net_keep_prob_input()\n",
    "\n",
    "# Model\n",
    "logits = conv_net(x, keep_prob)\n",
    "\n",
    "# Name logits Tensor, so that is can be loaded from disk after training\n",
    "logits = tf.identity(logits, name='logits')\n",
    "\n",
    "# Loss and Optimizer\n",
    "cost = tf.reduce_mean(tf.nn.softmax_cross_entropy_with_logits(logits=logits, labels=y))\n",
    "optimizer = tf.train.AdamOptimizer().minimize(cost)\n",
    "\n",
    "# Accuracy\n",
    "correct_pred = tf.equal(tf.argmax(logits, 1), tf.argmax(y, 1))\n",
    "accuracy = tf.reduce_mean(tf.cast(correct_pred, tf.float32), name='accuracy')\n",
    "\n",
    "tests.test_conv_net(conv_net)"
   ]
  },
  {
   "cell_type": "markdown",
   "metadata": {},
   "source": [
    "## Train the Neural Network\n",
    "### Single Optimization\n",
    "Implement the function `train_neural_network` to do a single optimization.  The optimization should use `optimizer` to optimize in `session` with a `feed_dict` of the following:\n",
    "* `x` for image input\n",
    "* `y` for labels\n",
    "* `keep_prob` for keep probability for dropout\n",
    "\n",
    "This function will be called for each batch, so `tf.global_variables_initializer()` has already been called.\n",
    "\n",
    "Note: Nothing needs to be returned. This function is only optimizing the neural network."
   ]
  },
  {
   "cell_type": "code",
   "execution_count": 23,
   "metadata": {
    "collapsed": false
   },
   "outputs": [
    {
     "name": "stdout",
     "output_type": "stream",
     "text": [
      "Tests Passed\n"
     ]
    }
   ],
   "source": [
    "def train_neural_network(session, optimizer, keep_probability, feature_batch, label_batch):\n",
    "    \"\"\"\n",
    "    Optimize the session on a batch of images and labels\n",
    "    : session: Current TensorFlow session\n",
    "    : optimizer: TensorFlow optimizer function\n",
    "    : keep_probability: keep probability\n",
    "    : feature_batch: Batch of Numpy image data\n",
    "    : label_batch: Batch of Numpy label data\n",
    "    \"\"\"\n",
    "    # TODO: Implement Function\n",
    "    session.run(optimizer,feed_dict={x:feature_batch,y:label_batch,keep_prob:keep_probability})\n",
    "\n",
    "\n",
    "\"\"\"\n",
    "DON'T MODIFY ANYTHING IN THIS CELL THAT IS BELOW THIS LINE\n",
    "\"\"\"\n",
    "tests.test_train_nn(train_neural_network)"
   ]
  },
  {
   "cell_type": "markdown",
   "metadata": {},
   "source": [
    "### Show Stats\n",
    "Implement the function `print_stats` to print loss and validation accuracy.  Use the global variables `valid_features` and `valid_labels` to calculate validation accuracy.  Use a keep probability of `1.0` to calculate the loss and validation accuracy."
   ]
  },
  {
   "cell_type": "code",
   "execution_count": 24,
   "metadata": {
    "collapsed": false
   },
   "outputs": [],
   "source": [
    "def print_stats(session, feature_batch, label_batch, cost, accuracy):\n",
    "    \"\"\"\n",
    "    Print information about loss and validation accuracy\n",
    "    : session: Current TensorFlow session\n",
    "    : feature_batch: Batch of Numpy image data\n",
    "    : label_batch: Batch of Numpy label data\n",
    "    : cost: TensorFlow cost function\n",
    "    : accuracy: TensorFlow accuracy function\n",
    "    \"\"\"\n",
    "    # TODO: Implement Function\n",
    "    loss = session.run(cost, feed_dict={x: feature_batch, y: label_batch, keep_prob: 1.0})\n",
    "    validation_accuracy = session.run(accuracy, feed_dict={x: valid_features, y: valid_labels, keep_prob: 1.})\n",
    "    print('Loss: {:>10.4f} Validation Accuracy: {:.6f}'.format(loss, validation_accuracy))"
   ]
  },
  {
   "cell_type": "markdown",
   "metadata": {},
   "source": [
    "### Hyperparameters\n",
    "Tune the following parameters:\n",
    "* Set `epochs` to the number of iterations until the network stops learning or start overfitting\n",
    "* Set `batch_size` to the highest number that your machine has memory for.  Most people set them to common sizes of memory:\n",
    " * 64\n",
    " * 128\n",
    " * 256\n",
    " * ...\n",
    "* Set `keep_probability` to the probability of keeping a node using dropout"
   ]
  },
  {
   "cell_type": "code",
   "execution_count": 25,
   "metadata": {
    "collapsed": true
   },
   "outputs": [],
   "source": [
    "# TODO: Tune Parameters\n",
    "epochs = 50\n",
    "batch_size = 128\n",
    "keep_probability = 0.75"
   ]
  },
  {
   "cell_type": "markdown",
   "metadata": {},
   "source": [
    "### Train on a Single CIFAR-10 Batch\n",
    "Instead of training the neural network on all the CIFAR-10 batches of data, let's use a single batch. This should save time while you iterate on the model to get a better accuracy.  Once the final validation accuracy is 50% or greater, run the model on all the data in the next section."
   ]
  },
  {
   "cell_type": "code",
   "execution_count": 26,
   "metadata": {
    "collapsed": false
   },
   "outputs": [
    {
     "name": "stdout",
     "output_type": "stream",
     "text": [
      "Checking the Training on a Single Batch...\n",
      "Epoch  1, CIFAR-10 Batch 1:  Loss:     2.2672 Validation Accuracy: 0.125200\n",
      "Epoch  2, CIFAR-10 Batch 1:  Loss:     2.2254 Validation Accuracy: 0.198800\n",
      "Epoch  3, CIFAR-10 Batch 1:  Loss:     2.1762 Validation Accuracy: 0.209400\n",
      "Epoch  4, CIFAR-10 Batch 1:  Loss:     2.1083 Validation Accuracy: 0.214400\n",
      "Epoch  5, CIFAR-10 Batch 1:  Loss:     2.0670 Validation Accuracy: 0.233600\n",
      "Epoch  6, CIFAR-10 Batch 1:  Loss:     1.9948 Validation Accuracy: 0.283800\n",
      "Epoch  7, CIFAR-10 Batch 1:  Loss:     1.9405 Validation Accuracy: 0.326400\n",
      "Epoch  8, CIFAR-10 Batch 1:  Loss:     1.9329 Validation Accuracy: 0.331200\n",
      "Epoch  9, CIFAR-10 Batch 1:  Loss:     1.8616 Validation Accuracy: 0.348600\n",
      "Epoch 10, CIFAR-10 Batch 1:  Loss:     1.7522 Validation Accuracy: 0.383000\n",
      "Epoch 11, CIFAR-10 Batch 1:  Loss:     1.7166 Validation Accuracy: 0.387600\n",
      "Epoch 12, CIFAR-10 Batch 1:  Loss:     1.6853 Validation Accuracy: 0.395400\n",
      "Epoch 13, CIFAR-10 Batch 1:  Loss:     1.5973 Validation Accuracy: 0.403800\n",
      "Epoch 14, CIFAR-10 Batch 1:  Loss:     1.5327 Validation Accuracy: 0.408400\n",
      "Epoch 15, CIFAR-10 Batch 1:  Loss:     1.5336 Validation Accuracy: 0.415600\n",
      "Epoch 16, CIFAR-10 Batch 1:  Loss:     1.4583 Validation Accuracy: 0.418800\n",
      "Epoch 17, CIFAR-10 Batch 1:  Loss:     1.3926 Validation Accuracy: 0.422600\n",
      "Epoch 18, CIFAR-10 Batch 1:  Loss:     1.3998 Validation Accuracy: 0.412200\n",
      "Epoch 19, CIFAR-10 Batch 1:  Loss:     1.3209 Validation Accuracy: 0.425400\n",
      "Epoch 20, CIFAR-10 Batch 1:  Loss:     1.3216 Validation Accuracy: 0.404200\n",
      "Epoch 21, CIFAR-10 Batch 1:  Loss:     1.2201 Validation Accuracy: 0.418600\n",
      "Epoch 22, CIFAR-10 Batch 1:  Loss:     1.1723 Validation Accuracy: 0.447800\n",
      "Epoch 23, CIFAR-10 Batch 1:  Loss:     1.1512 Validation Accuracy: 0.463800\n",
      "Epoch 24, CIFAR-10 Batch 1:  Loss:     1.1252 Validation Accuracy: 0.443200\n",
      "Epoch 25, CIFAR-10 Batch 1:  Loss:     1.0797 Validation Accuracy: 0.443600\n",
      "Epoch 26, CIFAR-10 Batch 1:  Loss:     1.0299 Validation Accuracy: 0.459800\n",
      "Epoch 27, CIFAR-10 Batch 1:  Loss:     1.0049 Validation Accuracy: 0.461000\n",
      "Epoch 28, CIFAR-10 Batch 1:  Loss:     1.0457 Validation Accuracy: 0.458600\n",
      "Epoch 29, CIFAR-10 Batch 1:  Loss:     0.9308 Validation Accuracy: 0.466800\n",
      "Epoch 30, CIFAR-10 Batch 1:  Loss:     0.8984 Validation Accuracy: 0.467200\n",
      "Epoch 31, CIFAR-10 Batch 1:  Loss:     0.8929 Validation Accuracy: 0.460000\n",
      "Epoch 32, CIFAR-10 Batch 1:  Loss:     0.8894 Validation Accuracy: 0.449600\n",
      "Epoch 33, CIFAR-10 Batch 1:  Loss:     0.9553 Validation Accuracy: 0.441200\n",
      "Epoch 34, CIFAR-10 Batch 1:  Loss:     0.9005 Validation Accuracy: 0.445800\n",
      "Epoch 35, CIFAR-10 Batch 1:  Loss:     0.8399 Validation Accuracy: 0.457600\n",
      "Epoch 36, CIFAR-10 Batch 1:  Loss:     0.8188 Validation Accuracy: 0.462400\n",
      "Epoch 37, CIFAR-10 Batch 1:  Loss:     0.8150 Validation Accuracy: 0.462600\n",
      "Epoch 38, CIFAR-10 Batch 1:  Loss:     0.7814 Validation Accuracy: 0.463400\n",
      "Epoch 39, CIFAR-10 Batch 1:  Loss:     0.7526 Validation Accuracy: 0.454000\n",
      "Epoch 40, CIFAR-10 Batch 1:  Loss:     0.7368 Validation Accuracy: 0.465800\n",
      "Epoch 41, CIFAR-10 Batch 1:  Loss:     0.7269 Validation Accuracy: 0.451800\n",
      "Epoch 42, CIFAR-10 Batch 1:  Loss:     0.7128 Validation Accuracy: 0.467800\n",
      "Epoch 43, CIFAR-10 Batch 1:  Loss:     0.7108 Validation Accuracy: 0.461000\n",
      "Epoch 44, CIFAR-10 Batch 1:  Loss:     0.7112 Validation Accuracy: 0.463800\n",
      "Epoch 45, CIFAR-10 Batch 1:  Loss:     0.6865 Validation Accuracy: 0.463600\n",
      "Epoch 46, CIFAR-10 Batch 1:  Loss:     0.7753 Validation Accuracy: 0.439600\n",
      "Epoch 47, CIFAR-10 Batch 1:  Loss:     0.6766 Validation Accuracy: 0.460400\n",
      "Epoch 48, CIFAR-10 Batch 1:  Loss:     0.6995 Validation Accuracy: 0.462400\n",
      "Epoch 49, CIFAR-10 Batch 1:  Loss:     0.6889 Validation Accuracy: 0.464200\n",
      "Epoch 50, CIFAR-10 Batch 1:  Loss:     0.6493 Validation Accuracy: 0.460000\n"
     ]
    }
   ],
   "source": [
    "\"\"\"\n",
    "DON'T MODIFY ANYTHING IN THIS CELL\n",
    "\"\"\"\n",
    "print('Checking the Training on a Single Batch...')\n",
    "with tf.Session() as sess:\n",
    "    # Initializing the variables\n",
    "    sess.run(tf.global_variables_initializer())\n",
    "    \n",
    "    # Training cycle\n",
    "    for epoch in range(epochs):\n",
    "        batch_i = 1\n",
    "        for batch_features, batch_labels in helper.load_preprocess_training_batch(batch_i, batch_size):\n",
    "            train_neural_network(sess, optimizer, keep_probability, batch_features, batch_labels)\n",
    "        print('Epoch {:>2}, CIFAR-10 Batch {}:  '.format(epoch + 1, batch_i), end='')\n",
    "        print_stats(sess, batch_features, batch_labels, cost, accuracy)"
   ]
  },
  {
   "cell_type": "markdown",
   "metadata": {},
   "source": [
    "### Fully Train the Model\n",
    "Now that you got a good accuracy with a single CIFAR-10 batch, try it with all five batches."
   ]
  },
  {
   "cell_type": "code",
   "execution_count": 27,
   "metadata": {
    "collapsed": false
   },
   "outputs": [
    {
     "name": "stdout",
     "output_type": "stream",
     "text": [
      "Training...\n",
      "Epoch  1, CIFAR-10 Batch 1:  Loss:     2.2519 Validation Accuracy: 0.180600\n",
      "Epoch  1, CIFAR-10 Batch 2:  Loss:     2.0273 Validation Accuracy: 0.243600\n",
      "Epoch  1, CIFAR-10 Batch 3:  Loss:     1.8768 Validation Accuracy: 0.301800\n",
      "Epoch  1, CIFAR-10 Batch 4:  Loss:     1.8980 Validation Accuracy: 0.304800\n",
      "Epoch  1, CIFAR-10 Batch 5:  Loss:     1.9296 Validation Accuracy: 0.353200\n",
      "Epoch  2, CIFAR-10 Batch 1:  Loss:     2.0829 Validation Accuracy: 0.357000\n",
      "Epoch  2, CIFAR-10 Batch 2:  Loss:     1.7599 Validation Accuracy: 0.369800\n",
      "Epoch  2, CIFAR-10 Batch 3:  Loss:     1.5238 Validation Accuracy: 0.365600\n",
      "Epoch  2, CIFAR-10 Batch 4:  Loss:     1.6639 Validation Accuracy: 0.364200\n",
      "Epoch  2, CIFAR-10 Batch 5:  Loss:     1.6603 Validation Accuracy: 0.403400\n",
      "Epoch  3, CIFAR-10 Batch 1:  Loss:     1.7897 Validation Accuracy: 0.409800\n",
      "Epoch  3, CIFAR-10 Batch 2:  Loss:     1.5559 Validation Accuracy: 0.402600\n",
      "Epoch  3, CIFAR-10 Batch 3:  Loss:     1.3670 Validation Accuracy: 0.412600\n",
      "Epoch  3, CIFAR-10 Batch 4:  Loss:     1.4774 Validation Accuracy: 0.439000\n",
      "Epoch  3, CIFAR-10 Batch 5:  Loss:     1.4871 Validation Accuracy: 0.430000\n",
      "Epoch  4, CIFAR-10 Batch 1:  Loss:     1.6343 Validation Accuracy: 0.407200\n",
      "Epoch  4, CIFAR-10 Batch 2:  Loss:     1.3569 Validation Accuracy: 0.453400\n",
      "Epoch  4, CIFAR-10 Batch 3:  Loss:     1.2656 Validation Accuracy: 0.453600\n",
      "Epoch  4, CIFAR-10 Batch 4:  Loss:     1.3889 Validation Accuracy: 0.451800\n",
      "Epoch  4, CIFAR-10 Batch 5:  Loss:     1.3238 Validation Accuracy: 0.465000\n",
      "Epoch  5, CIFAR-10 Batch 1:  Loss:     1.4825 Validation Accuracy: 0.449000\n",
      "Epoch  5, CIFAR-10 Batch 2:  Loss:     1.1763 Validation Accuracy: 0.472200\n",
      "Epoch  5, CIFAR-10 Batch 3:  Loss:     1.1900 Validation Accuracy: 0.457000\n",
      "Epoch  5, CIFAR-10 Batch 4:  Loss:     1.2724 Validation Accuracy: 0.477400\n",
      "Epoch  5, CIFAR-10 Batch 5:  Loss:     1.2006 Validation Accuracy: 0.482400\n",
      "Epoch  6, CIFAR-10 Batch 1:  Loss:     1.3572 Validation Accuracy: 0.471800\n",
      "Epoch  6, CIFAR-10 Batch 2:  Loss:     1.0977 Validation Accuracy: 0.485400\n",
      "Epoch  6, CIFAR-10 Batch 3:  Loss:     1.1348 Validation Accuracy: 0.496000\n",
      "Epoch  6, CIFAR-10 Batch 4:  Loss:     1.2061 Validation Accuracy: 0.484400\n",
      "Epoch  6, CIFAR-10 Batch 5:  Loss:     1.1925 Validation Accuracy: 0.507800\n",
      "Epoch  7, CIFAR-10 Batch 1:  Loss:     1.2415 Validation Accuracy: 0.477000\n",
      "Epoch  7, CIFAR-10 Batch 2:  Loss:     1.0474 Validation Accuracy: 0.512400\n",
      "Epoch  7, CIFAR-10 Batch 3:  Loss:     1.0478 Validation Accuracy: 0.511000\n",
      "Epoch  7, CIFAR-10 Batch 4:  Loss:     1.1568 Validation Accuracy: 0.506000\n",
      "Epoch  7, CIFAR-10 Batch 5:  Loss:     1.0523 Validation Accuracy: 0.522000\n",
      "Epoch  8, CIFAR-10 Batch 1:  Loss:     1.1469 Validation Accuracy: 0.477000\n",
      "Epoch  8, CIFAR-10 Batch 2:  Loss:     0.9690 Validation Accuracy: 0.511600\n",
      "Epoch  8, CIFAR-10 Batch 3:  Loss:     0.9897 Validation Accuracy: 0.517600\n",
      "Epoch  8, CIFAR-10 Batch 4:  Loss:     1.0946 Validation Accuracy: 0.496200\n",
      "Epoch  8, CIFAR-10 Batch 5:  Loss:     0.9651 Validation Accuracy: 0.514600\n",
      "Epoch  9, CIFAR-10 Batch 1:  Loss:     1.1014 Validation Accuracy: 0.525800\n",
      "Epoch  9, CIFAR-10 Batch 2:  Loss:     0.9702 Validation Accuracy: 0.526600\n",
      "Epoch  9, CIFAR-10 Batch 3:  Loss:     0.9682 Validation Accuracy: 0.528200\n",
      "Epoch  9, CIFAR-10 Batch 4:  Loss:     1.0627 Validation Accuracy: 0.518200\n",
      "Epoch  9, CIFAR-10 Batch 5:  Loss:     0.9408 Validation Accuracy: 0.529200\n",
      "Epoch 10, CIFAR-10 Batch 1:  Loss:     1.0726 Validation Accuracy: 0.537600\n",
      "Epoch 10, CIFAR-10 Batch 2:  Loss:     0.9042 Validation Accuracy: 0.526200\n",
      "Epoch 10, CIFAR-10 Batch 3:  Loss:     0.8460 Validation Accuracy: 0.540200\n",
      "Epoch 10, CIFAR-10 Batch 4:  Loss:     1.0371 Validation Accuracy: 0.532600\n",
      "Epoch 10, CIFAR-10 Batch 5:  Loss:     0.8736 Validation Accuracy: 0.537800\n",
      "Epoch 11, CIFAR-10 Batch 1:  Loss:     0.9893 Validation Accuracy: 0.547400\n",
      "Epoch 11, CIFAR-10 Batch 2:  Loss:     0.8496 Validation Accuracy: 0.550000\n",
      "Epoch 11, CIFAR-10 Batch 3:  Loss:     0.7988 Validation Accuracy: 0.543600\n",
      "Epoch 11, CIFAR-10 Batch 4:  Loss:     0.9839 Validation Accuracy: 0.539000\n",
      "Epoch 11, CIFAR-10 Batch 5:  Loss:     0.8685 Validation Accuracy: 0.538600\n",
      "Epoch 12, CIFAR-10 Batch 1:  Loss:     0.9293 Validation Accuracy: 0.554800\n",
      "Epoch 12, CIFAR-10 Batch 2:  Loss:     0.8182 Validation Accuracy: 0.547000\n",
      "Epoch 12, CIFAR-10 Batch 3:  Loss:     0.7469 Validation Accuracy: 0.562000\n",
      "Epoch 12, CIFAR-10 Batch 4:  Loss:     0.9439 Validation Accuracy: 0.555600\n",
      "Epoch 12, CIFAR-10 Batch 5:  Loss:     0.8222 Validation Accuracy: 0.521600\n",
      "Epoch 13, CIFAR-10 Batch 1:  Loss:     0.8879 Validation Accuracy: 0.554600\n",
      "Epoch 13, CIFAR-10 Batch 2:  Loss:     0.7739 Validation Accuracy: 0.555600\n",
      "Epoch 13, CIFAR-10 Batch 3:  Loss:     0.7172 Validation Accuracy: 0.559600\n",
      "Epoch 13, CIFAR-10 Batch 4:  Loss:     0.9370 Validation Accuracy: 0.562800\n",
      "Epoch 13, CIFAR-10 Batch 5:  Loss:     0.7702 Validation Accuracy: 0.547600\n",
      "Epoch 14, CIFAR-10 Batch 1:  Loss:     0.8263 Validation Accuracy: 0.568200\n",
      "Epoch 14, CIFAR-10 Batch 2:  Loss:     0.7439 Validation Accuracy: 0.561600\n",
      "Epoch 14, CIFAR-10 Batch 3:  Loss:     0.6752 Validation Accuracy: 0.566800\n",
      "Epoch 14, CIFAR-10 Batch 4:  Loss:     0.9224 Validation Accuracy: 0.578200\n",
      "Epoch 14, CIFAR-10 Batch 5:  Loss:     0.7627 Validation Accuracy: 0.554400\n",
      "Epoch 15, CIFAR-10 Batch 1:  Loss:     0.7888 Validation Accuracy: 0.557000\n",
      "Epoch 15, CIFAR-10 Batch 2:  Loss:     0.7447 Validation Accuracy: 0.569400\n",
      "Epoch 15, CIFAR-10 Batch 3:  Loss:     0.6483 Validation Accuracy: 0.573600\n",
      "Epoch 15, CIFAR-10 Batch 4:  Loss:     0.9118 Validation Accuracy: 0.578000\n",
      "Epoch 15, CIFAR-10 Batch 5:  Loss:     0.7368 Validation Accuracy: 0.550200\n",
      "Epoch 16, CIFAR-10 Batch 1:  Loss:     0.7782 Validation Accuracy: 0.558000\n",
      "Epoch 16, CIFAR-10 Batch 2:  Loss:     0.7875 Validation Accuracy: 0.565600\n",
      "Epoch 16, CIFAR-10 Batch 3:  Loss:     0.6660 Validation Accuracy: 0.568400\n",
      "Epoch 16, CIFAR-10 Batch 4:  Loss:     0.8565 Validation Accuracy: 0.575000\n",
      "Epoch 16, CIFAR-10 Batch 5:  Loss:     0.7113 Validation Accuracy: 0.537600\n",
      "Epoch 17, CIFAR-10 Batch 1:  Loss:     0.7558 Validation Accuracy: 0.556600\n",
      "Epoch 17, CIFAR-10 Batch 2:  Loss:     0.7171 Validation Accuracy: 0.567400\n",
      "Epoch 17, CIFAR-10 Batch 3:  Loss:     0.6420 Validation Accuracy: 0.562600\n",
      "Epoch 17, CIFAR-10 Batch 4:  Loss:     0.8265 Validation Accuracy: 0.576000\n",
      "Epoch 17, CIFAR-10 Batch 5:  Loss:     0.6916 Validation Accuracy: 0.542000\n",
      "Epoch 18, CIFAR-10 Batch 1:  Loss:     0.7217 Validation Accuracy: 0.564800\n",
      "Epoch 18, CIFAR-10 Batch 2:  Loss:     0.7750 Validation Accuracy: 0.556600\n",
      "Epoch 18, CIFAR-10 Batch 3:  Loss:     0.7646 Validation Accuracy: 0.550400\n",
      "Epoch 18, CIFAR-10 Batch 4:  Loss:     0.7907 Validation Accuracy: 0.578800\n",
      "Epoch 18, CIFAR-10 Batch 5:  Loss:     0.6524 Validation Accuracy: 0.545000\n",
      "Epoch 19, CIFAR-10 Batch 1:  Loss:     0.6786 Validation Accuracy: 0.560600\n",
      "Epoch 19, CIFAR-10 Batch 2:  Loss:     0.7187 Validation Accuracy: 0.580000\n",
      "Epoch 19, CIFAR-10 Batch 3:  Loss:     0.7021 Validation Accuracy: 0.554800\n",
      "Epoch 19, CIFAR-10 Batch 4:  Loss:     0.7428 Validation Accuracy: 0.577800\n",
      "Epoch 19, CIFAR-10 Batch 5:  Loss:     0.5920 Validation Accuracy: 0.545800\n",
      "Epoch 20, CIFAR-10 Batch 1:  Loss:     0.6983 Validation Accuracy: 0.551400\n",
      "Epoch 20, CIFAR-10 Batch 2:  Loss:     0.7057 Validation Accuracy: 0.577800\n",
      "Epoch 20, CIFAR-10 Batch 3:  Loss:     0.6262 Validation Accuracy: 0.564400\n",
      "Epoch 20, CIFAR-10 Batch 4:  Loss:     0.7540 Validation Accuracy: 0.580400\n",
      "Epoch 20, CIFAR-10 Batch 5:  Loss:     0.6000 Validation Accuracy: 0.568600\n",
      "Epoch 21, CIFAR-10 Batch 1:  Loss:     0.6535 Validation Accuracy: 0.566800\n",
      "Epoch 21, CIFAR-10 Batch 2:  Loss:     0.6694 Validation Accuracy: 0.585600\n",
      "Epoch 21, CIFAR-10 Batch 3:  Loss:     0.6237 Validation Accuracy: 0.553000\n",
      "Epoch 21, CIFAR-10 Batch 4:  Loss:     0.6657 Validation Accuracy: 0.580000\n",
      "Epoch 21, CIFAR-10 Batch 5:  Loss:     0.5924 Validation Accuracy: 0.566600\n",
      "Epoch 22, CIFAR-10 Batch 1:  Loss:     0.6591 Validation Accuracy: 0.570400\n",
      "Epoch 22, CIFAR-10 Batch 2:  Loss:     0.6371 Validation Accuracy: 0.579000\n",
      "Epoch 22, CIFAR-10 Batch 3:  Loss:     0.5325 Validation Accuracy: 0.563800\n",
      "Epoch 22, CIFAR-10 Batch 4:  Loss:     0.6459 Validation Accuracy: 0.586200\n",
      "Epoch 22, CIFAR-10 Batch 5:  Loss:     0.5653 Validation Accuracy: 0.576800\n",
      "Epoch 23, CIFAR-10 Batch 1:  Loss:     0.5875 Validation Accuracy: 0.589800\n",
      "Epoch 23, CIFAR-10 Batch 2:  Loss:     0.6114 Validation Accuracy: 0.581000\n",
      "Epoch 23, CIFAR-10 Batch 3:  Loss:     0.5181 Validation Accuracy: 0.579800\n",
      "Epoch 23, CIFAR-10 Batch 4:  Loss:     0.5830 Validation Accuracy: 0.587600\n",
      "Epoch 23, CIFAR-10 Batch 5:  Loss:     0.5656 Validation Accuracy: 0.572200\n",
      "Epoch 24, CIFAR-10 Batch 1:  Loss:     0.5813 Validation Accuracy: 0.581600\n",
      "Epoch 24, CIFAR-10 Batch 2:  Loss:     0.5996 Validation Accuracy: 0.589000\n",
      "Epoch 24, CIFAR-10 Batch 3:  Loss:     0.5384 Validation Accuracy: 0.577400\n",
      "Epoch 24, CIFAR-10 Batch 4:  Loss:     0.5930 Validation Accuracy: 0.598400\n",
      "Epoch 24, CIFAR-10 Batch 5:  Loss:     0.4840 Validation Accuracy: 0.585000\n",
      "Epoch 25, CIFAR-10 Batch 1:  Loss:     0.5500 Validation Accuracy: 0.586000\n",
      "Epoch 25, CIFAR-10 Batch 2:  Loss:     0.5477 Validation Accuracy: 0.587600\n",
      "Epoch 25, CIFAR-10 Batch 3:  Loss:     0.4720 Validation Accuracy: 0.581400\n",
      "Epoch 25, CIFAR-10 Batch 4:  Loss:     0.6366 Validation Accuracy: 0.591200\n",
      "Epoch 25, CIFAR-10 Batch 5:  Loss:     0.4851 Validation Accuracy: 0.584600\n",
      "Epoch 26, CIFAR-10 Batch 1:  Loss:     0.5516 Validation Accuracy: 0.583000\n",
      "Epoch 26, CIFAR-10 Batch 2:  Loss:     0.5395 Validation Accuracy: 0.587400\n",
      "Epoch 26, CIFAR-10 Batch 3:  Loss:     0.4765 Validation Accuracy: 0.592200\n",
      "Epoch 26, CIFAR-10 Batch 4:  Loss:     0.5741 Validation Accuracy: 0.588600\n",
      "Epoch 26, CIFAR-10 Batch 5:  Loss:     0.4245 Validation Accuracy: 0.586800\n",
      "Epoch 27, CIFAR-10 Batch 1:  Loss:     0.5675 Validation Accuracy: 0.583200\n",
      "Epoch 27, CIFAR-10 Batch 2:  Loss:     0.5280 Validation Accuracy: 0.586000\n",
      "Epoch 27, CIFAR-10 Batch 3:  Loss:     0.4793 Validation Accuracy: 0.579800\n",
      "Epoch 27, CIFAR-10 Batch 4:  Loss:     0.5955 Validation Accuracy: 0.587400\n",
      "Epoch 27, CIFAR-10 Batch 5:  Loss:     0.4416 Validation Accuracy: 0.592400\n",
      "Epoch 28, CIFAR-10 Batch 1:  Loss:     0.5554 Validation Accuracy: 0.587000\n",
      "Epoch 28, CIFAR-10 Batch 2:  Loss:     0.4708 Validation Accuracy: 0.586400\n",
      "Epoch 28, CIFAR-10 Batch 3:  Loss:     0.4691 Validation Accuracy: 0.573200\n",
      "Epoch 28, CIFAR-10 Batch 4:  Loss:     0.6211 Validation Accuracy: 0.593000\n",
      "Epoch 28, CIFAR-10 Batch 5:  Loss:     0.4852 Validation Accuracy: 0.587400\n",
      "Epoch 29, CIFAR-10 Batch 1:  Loss:     0.5942 Validation Accuracy: 0.594000\n",
      "Epoch 29, CIFAR-10 Batch 2:  Loss:     0.4954 Validation Accuracy: 0.596800\n",
      "Epoch 29, CIFAR-10 Batch 3:  Loss:     0.4565 Validation Accuracy: 0.582000\n",
      "Epoch 29, CIFAR-10 Batch 4:  Loss:     0.5620 Validation Accuracy: 0.594400\n",
      "Epoch 29, CIFAR-10 Batch 5:  Loss:     0.4053 Validation Accuracy: 0.587000\n",
      "Epoch 30, CIFAR-10 Batch 1:  Loss:     0.5208 Validation Accuracy: 0.591600\n",
      "Epoch 30, CIFAR-10 Batch 2:  Loss:     0.5037 Validation Accuracy: 0.596200\n",
      "Epoch 30, CIFAR-10 Batch 3:  Loss:     0.4952 Validation Accuracy: 0.570000\n",
      "Epoch 30, CIFAR-10 Batch 4:  Loss:     0.5728 Validation Accuracy: 0.589000\n",
      "Epoch 30, CIFAR-10 Batch 5:  Loss:     0.4349 Validation Accuracy: 0.596800\n",
      "Epoch 31, CIFAR-10 Batch 1:  Loss:     0.5453 Validation Accuracy: 0.597600\n",
      "Epoch 31, CIFAR-10 Batch 2:  Loss:     0.5890 Validation Accuracy: 0.575800\n",
      "Epoch 31, CIFAR-10 Batch 3:  Loss:     0.4537 Validation Accuracy: 0.574400\n",
      "Epoch 31, CIFAR-10 Batch 4:  Loss:     0.6004 Validation Accuracy: 0.593200\n",
      "Epoch 31, CIFAR-10 Batch 5:  Loss:     0.4223 Validation Accuracy: 0.600200\n",
      "Epoch 32, CIFAR-10 Batch 1:  Loss:     0.5827 Validation Accuracy: 0.593200\n",
      "Epoch 32, CIFAR-10 Batch 2:  Loss:     0.4868 Validation Accuracy: 0.583800\n",
      "Epoch 32, CIFAR-10 Batch 3:  Loss:     0.4480 Validation Accuracy: 0.593400\n",
      "Epoch 32, CIFAR-10 Batch 4:  Loss:     0.5233 Validation Accuracy: 0.596000\n",
      "Epoch 32, CIFAR-10 Batch 5:  Loss:     0.3775 Validation Accuracy: 0.604000\n",
      "Epoch 33, CIFAR-10 Batch 1:  Loss:     0.6705 Validation Accuracy: 0.583200\n",
      "Epoch 33, CIFAR-10 Batch 2:  Loss:     0.4611 Validation Accuracy: 0.590000\n",
      "Epoch 33, CIFAR-10 Batch 3:  Loss:     0.4134 Validation Accuracy: 0.580200\n",
      "Epoch 33, CIFAR-10 Batch 4:  Loss:     0.5588 Validation Accuracy: 0.600200\n",
      "Epoch 33, CIFAR-10 Batch 5:  Loss:     0.3946 Validation Accuracy: 0.581000\n",
      "Epoch 34, CIFAR-10 Batch 1:  Loss:     0.6026 Validation Accuracy: 0.588400\n",
      "Epoch 34, CIFAR-10 Batch 2:  Loss:     0.4366 Validation Accuracy: 0.585000\n",
      "Epoch 34, CIFAR-10 Batch 3:  Loss:     0.4265 Validation Accuracy: 0.579000\n",
      "Epoch 34, CIFAR-10 Batch 4:  Loss:     0.5507 Validation Accuracy: 0.576400\n",
      "Epoch 34, CIFAR-10 Batch 5:  Loss:     0.3817 Validation Accuracy: 0.600800\n",
      "Epoch 35, CIFAR-10 Batch 1:  Loss:     0.5491 Validation Accuracy: 0.594400\n",
      "Epoch 35, CIFAR-10 Batch 2:  Loss:     0.4048 Validation Accuracy: 0.596800\n",
      "Epoch 35, CIFAR-10 Batch 3:  Loss:     0.4291 Validation Accuracy: 0.588600\n",
      "Epoch 35, CIFAR-10 Batch 4:  Loss:     0.5447 Validation Accuracy: 0.586600\n",
      "Epoch 35, CIFAR-10 Batch 5:  Loss:     0.3481 Validation Accuracy: 0.609200\n",
      "Epoch 36, CIFAR-10 Batch 1:  Loss:     0.4888 Validation Accuracy: 0.588200\n",
      "Epoch 36, CIFAR-10 Batch 2:  Loss:     0.4208 Validation Accuracy: 0.605800\n",
      "Epoch 36, CIFAR-10 Batch 3:  Loss:     0.4030 Validation Accuracy: 0.591400\n",
      "Epoch 36, CIFAR-10 Batch 4:  Loss:     0.4936 Validation Accuracy: 0.590800\n",
      "Epoch 36, CIFAR-10 Batch 5:  Loss:     0.3751 Validation Accuracy: 0.597000\n",
      "Epoch 37, CIFAR-10 Batch 1:  Loss:     0.5599 Validation Accuracy: 0.580000\n",
      "Epoch 37, CIFAR-10 Batch 2:  Loss:     0.4247 Validation Accuracy: 0.581000\n",
      "Epoch 37, CIFAR-10 Batch 3:  Loss:     0.3717 Validation Accuracy: 0.600400\n",
      "Epoch 37, CIFAR-10 Batch 4:  Loss:     0.4695 Validation Accuracy: 0.582200\n",
      "Epoch 37, CIFAR-10 Batch 5:  Loss:     0.3946 Validation Accuracy: 0.593200\n",
      "Epoch 38, CIFAR-10 Batch 1:  Loss:     0.4627 Validation Accuracy: 0.593000\n",
      "Epoch 38, CIFAR-10 Batch 2:  Loss:     0.3830 Validation Accuracy: 0.589200\n",
      "Epoch 38, CIFAR-10 Batch 3:  Loss:     0.3848 Validation Accuracy: 0.606800\n",
      "Epoch 38, CIFAR-10 Batch 4:  Loss:     0.5296 Validation Accuracy: 0.586400\n",
      "Epoch 38, CIFAR-10 Batch 5:  Loss:     0.3603 Validation Accuracy: 0.605600\n",
      "Epoch 39, CIFAR-10 Batch 1:  Loss:     0.5068 Validation Accuracy: 0.597000\n",
      "Epoch 39, CIFAR-10 Batch 2:  Loss:     0.3757 Validation Accuracy: 0.590800\n",
      "Epoch 39, CIFAR-10 Batch 3:  Loss:     0.3863 Validation Accuracy: 0.595200\n",
      "Epoch 39, CIFAR-10 Batch 4:  Loss:     0.5312 Validation Accuracy: 0.599600\n",
      "Epoch 39, CIFAR-10 Batch 5:  Loss:     0.3697 Validation Accuracy: 0.601600\n",
      "Epoch 40, CIFAR-10 Batch 1:  Loss:     0.5352 Validation Accuracy: 0.581400\n",
      "Epoch 40, CIFAR-10 Batch 2:  Loss:     0.3593 Validation Accuracy: 0.594000\n",
      "Epoch 40, CIFAR-10 Batch 3:  Loss:     0.3666 Validation Accuracy: 0.593400\n",
      "Epoch 40, CIFAR-10 Batch 4:  Loss:     0.4583 Validation Accuracy: 0.605200\n",
      "Epoch 40, CIFAR-10 Batch 5:  Loss:     0.3399 Validation Accuracy: 0.598600\n",
      "Epoch 41, CIFAR-10 Batch 1:  Loss:     0.4488 Validation Accuracy: 0.589800\n",
      "Epoch 41, CIFAR-10 Batch 2:  Loss:     0.3456 Validation Accuracy: 0.595400\n",
      "Epoch 41, CIFAR-10 Batch 3:  Loss:     0.4245 Validation Accuracy: 0.580000\n",
      "Epoch 41, CIFAR-10 Batch 4:  Loss:     0.5034 Validation Accuracy: 0.603600\n",
      "Epoch 41, CIFAR-10 Batch 5:  Loss:     0.3661 Validation Accuracy: 0.592400\n",
      "Epoch 42, CIFAR-10 Batch 1:  Loss:     0.4389 Validation Accuracy: 0.600400\n",
      "Epoch 42, CIFAR-10 Batch 2:  Loss:     0.3511 Validation Accuracy: 0.598800\n",
      "Epoch 42, CIFAR-10 Batch 3:  Loss:     0.3434 Validation Accuracy: 0.601000\n",
      "Epoch 42, CIFAR-10 Batch 4:  Loss:     0.4890 Validation Accuracy: 0.590200\n",
      "Epoch 42, CIFAR-10 Batch 5:  Loss:     0.3344 Validation Accuracy: 0.605400\n",
      "Epoch 43, CIFAR-10 Batch 1:  Loss:     0.4497 Validation Accuracy: 0.591400\n",
      "Epoch 43, CIFAR-10 Batch 2:  Loss:     0.3687 Validation Accuracy: 0.587400\n",
      "Epoch 43, CIFAR-10 Batch 3:  Loss:     0.3579 Validation Accuracy: 0.579400\n",
      "Epoch 43, CIFAR-10 Batch 4:  Loss:     0.5263 Validation Accuracy: 0.589200\n",
      "Epoch 43, CIFAR-10 Batch 5:  Loss:     0.3467 Validation Accuracy: 0.598800\n",
      "Epoch 44, CIFAR-10 Batch 1:  Loss:     0.4377 Validation Accuracy: 0.597800\n",
      "Epoch 44, CIFAR-10 Batch 2:  Loss:     0.3589 Validation Accuracy: 0.591800\n",
      "Epoch 44, CIFAR-10 Batch 3:  Loss:     0.4294 Validation Accuracy: 0.601600\n",
      "Epoch 44, CIFAR-10 Batch 4:  Loss:     0.4704 Validation Accuracy: 0.596400\n",
      "Epoch 44, CIFAR-10 Batch 5:  Loss:     0.3317 Validation Accuracy: 0.595200\n",
      "Epoch 45, CIFAR-10 Batch 1:  Loss:     0.4294 Validation Accuracy: 0.597800\n",
      "Epoch 45, CIFAR-10 Batch 2:  Loss:     0.3596 Validation Accuracy: 0.592800\n",
      "Epoch 45, CIFAR-10 Batch 3:  Loss:     0.3577 Validation Accuracy: 0.593400\n",
      "Epoch 45, CIFAR-10 Batch 4:  Loss:     0.5364 Validation Accuracy: 0.587000\n",
      "Epoch 45, CIFAR-10 Batch 5:  Loss:     0.2951 Validation Accuracy: 0.598600\n",
      "Epoch 46, CIFAR-10 Batch 1:  Loss:     0.4782 Validation Accuracy: 0.603200\n",
      "Epoch 46, CIFAR-10 Batch 2:  Loss:     0.4288 Validation Accuracy: 0.592400\n",
      "Epoch 46, CIFAR-10 Batch 3:  Loss:     0.3672 Validation Accuracy: 0.588200\n",
      "Epoch 46, CIFAR-10 Batch 4:  Loss:     0.4822 Validation Accuracy: 0.594000\n",
      "Epoch 46, CIFAR-10 Batch 5:  Loss:     0.2919 Validation Accuracy: 0.599600\n",
      "Epoch 47, CIFAR-10 Batch 1:  Loss:     0.4823 Validation Accuracy: 0.593800\n",
      "Epoch 47, CIFAR-10 Batch 2:  Loss:     0.3720 Validation Accuracy: 0.599400\n",
      "Epoch 47, CIFAR-10 Batch 3:  Loss:     0.3536 Validation Accuracy: 0.585000\n",
      "Epoch 47, CIFAR-10 Batch 4:  Loss:     0.5086 Validation Accuracy: 0.597800\n",
      "Epoch 47, CIFAR-10 Batch 5:  Loss:     0.2951 Validation Accuracy: 0.608800\n",
      "Epoch 48, CIFAR-10 Batch 1:  Loss:     0.4720 Validation Accuracy: 0.595800\n",
      "Epoch 48, CIFAR-10 Batch 2:  Loss:     0.3262 Validation Accuracy: 0.600200\n",
      "Epoch 48, CIFAR-10 Batch 3:  Loss:     0.3688 Validation Accuracy: 0.600600\n",
      "Epoch 48, CIFAR-10 Batch 4:  Loss:     0.5268 Validation Accuracy: 0.588800\n",
      "Epoch 48, CIFAR-10 Batch 5:  Loss:     0.3051 Validation Accuracy: 0.590200\n",
      "Epoch 49, CIFAR-10 Batch 1:  Loss:     0.4342 Validation Accuracy: 0.604800\n",
      "Epoch 49, CIFAR-10 Batch 2:  Loss:     0.3575 Validation Accuracy: 0.589400\n",
      "Epoch 49, CIFAR-10 Batch 3:  Loss:     0.3609 Validation Accuracy: 0.573400\n",
      "Epoch 49, CIFAR-10 Batch 4:  Loss:     0.5067 Validation Accuracy: 0.588400\n",
      "Epoch 49, CIFAR-10 Batch 5:  Loss:     0.3628 Validation Accuracy: 0.599400\n",
      "Epoch 50, CIFAR-10 Batch 1:  Loss:     0.4542 Validation Accuracy: 0.600400\n",
      "Epoch 50, CIFAR-10 Batch 2:  Loss:     0.3349 Validation Accuracy: 0.583400\n",
      "Epoch 50, CIFAR-10 Batch 3:  Loss:     0.3722 Validation Accuracy: 0.593200\n",
      "Epoch 50, CIFAR-10 Batch 4:  Loss:     0.4292 Validation Accuracy: 0.594200\n",
      "Epoch 50, CIFAR-10 Batch 5:  Loss:     0.3358 Validation Accuracy: 0.598200\n"
     ]
    }
   ],
   "source": [
    "\"\"\"\n",
    "DON'T MODIFY ANYTHING IN THIS CELL\n",
    "\"\"\"\n",
    "save_model_path = './image_classification'\n",
    "\n",
    "print('Training...')\n",
    "with tf.Session() as sess:\n",
    "    # Initializing the variables\n",
    "    sess.run(tf.global_variables_initializer())\n",
    "    \n",
    "    # Training cycle\n",
    "    for epoch in range(epochs):\n",
    "        # Loop over all batches\n",
    "        n_batches = 5\n",
    "        for batch_i in range(1, n_batches + 1):\n",
    "            for batch_features, batch_labels in helper.load_preprocess_training_batch(batch_i, batch_size):\n",
    "                train_neural_network(sess, optimizer, keep_probability, batch_features, batch_labels)\n",
    "            print('Epoch {:>2}, CIFAR-10 Batch {}:  '.format(epoch + 1, batch_i), end='')\n",
    "            print_stats(sess, batch_features, batch_labels, cost, accuracy)\n",
    "            \n",
    "    # Save Model\n",
    "    saver = tf.train.Saver()\n",
    "    save_path = saver.save(sess, save_model_path)"
   ]
  },
  {
   "cell_type": "markdown",
   "metadata": {},
   "source": [
    "# Checkpoint\n",
    "The model has been saved to disk.\n",
    "## Test Model\n",
    "Test your model against the test dataset.  This will be your final accuracy. You should have an accuracy greater than 50%. If you don't, keep tweaking the model architecture and parameters."
   ]
  },
  {
   "cell_type": "code",
   "execution_count": 21,
   "metadata": {
    "collapsed": false
   },
   "outputs": [
    {
     "name": "stdout",
     "output_type": "stream",
     "text": [
      "INFO:tensorflow:Restoring parameters from ./image_classification\n",
      "Testing Accuracy: 0.5706091772151899\n",
      "\n"
     ]
    },
    {
     "data": {
      "image/png": "[encoded data removed]",
      "text/plain": [
       "<matplotlib.figure.Figure at 0x7f81b8e193c8>"
      ]
     },
     "metadata": {
      "image/png": {
       "height": 319,
       "width": 355
      }
     },
     "output_type": "display_data"
    }
   ],
   "source": [
    "\"\"\"\n",
    "DON'T MODIFY ANYTHING IN THIS CELL\n",
    "\"\"\"\n",
    "%matplotlib inline\n",
    "%config InlineBackend.figure_format = 'retina'\n",
    "\n",
    "import tensorflow as tf\n",
    "import pickle\n",
    "import helper\n",
    "import random\n",
    "\n",
    "# Set batch size if not already set\n",
    "try:\n",
    "    if batch_size:\n",
    "        pass\n",
    "except NameError:\n",
    "    batch_size = 64\n",
    "\n",
    "save_model_path = './image_classification'\n",
    "n_samples = 4\n",
    "top_n_predictions = 3\n",
    "\n",
    "def test_model():\n",
    "    \"\"\"\n",
    "    Test the saved model against the test dataset\n",
    "    \"\"\"\n",
    "\n",
    "    test_features, test_labels = pickle.load(open('preprocess_test.p', mode='rb'))\n",
    "    loaded_graph = tf.Graph()\n",
    "\n",
    "    with tf.Session(graph=loaded_graph) as sess:\n",
    "        # Load model\n",
    "        loader = tf.train.import_meta_graph(save_model_path + '.meta')\n",
    "        loader.restore(sess, save_model_path)\n",
    "\n",
    "        # Get Tensors from loaded model\n",
    "        loaded_x = loaded_graph.get_tensor_by_name('x:0')\n",
    "        loaded_y = loaded_graph.get_tensor_by_name('y:0')\n",
    "        loaded_keep_prob = loaded_graph.get_tensor_by_name('keep_prob:0')\n",
    "        loaded_logits = loaded_graph.get_tensor_by_name('logits:0')\n",
    "        loaded_acc = loaded_graph.get_tensor_by_name('accuracy:0')\n",
    "        \n",
    "        # Get accuracy in batches for memory limitations\n",
    "        test_batch_acc_total = 0\n",
    "        test_batch_count = 0\n",
    "        \n",
    "        for test_feature_batch, test_label_batch in helper.batch_features_labels(test_features, test_labels, batch_size):\n",
    "            test_batch_acc_total += sess.run(\n",
    "                loaded_acc,\n",
    "                feed_dict={loaded_x: test_feature_batch, loaded_y: test_label_batch, loaded_keep_prob: 1.0})\n",
    "            test_batch_count += 1\n",
    "\n",
    "        print('Testing Accuracy: {}\\n'.format(test_batch_acc_total/test_batch_count))\n",
    "\n",
    "        # Print Random Samples\n",
    "        random_test_features, random_test_labels = tuple(zip(*random.sample(list(zip(test_features, test_labels)), n_samples)))\n",
    "        random_test_predictions = sess.run(\n",
    "            tf.nn.top_k(tf.nn.softmax(loaded_logits), top_n_predictions),\n",
    "            feed_dict={loaded_x: random_test_features, loaded_y: random_test_labels, loaded_keep_prob: 1.0})\n",
    "        helper.display_image_predictions(random_test_features, random_test_labels, random_test_predictions)\n",
    "\n",
    "\n",
    "test_model()"
   ]
  },
  {
   "cell_type": "markdown",
   "metadata": {},
   "source": [
    "## Why 50-80% Accuracy?\n",
    "You might be wondering why you can't get an accuracy any higher. First things first, 50% isn't bad for a simple CNN.  Pure guessing would get you 10% accuracy. However, you might notice people are getting scores [well above 80%](http://rodrigob.github.io/are_we_there_yet/build/classification_datasets_results.html#43494641522d3130).  That's because we haven't taught you all there is to know about neural networks. We still need to cover a few more techniques.\n",
    "## Submitting This Project\n",
    "When submitting this project, make sure to run all the cells before saving the notebook.  Save the notebook file as \"dlnd_image_classification.ipynb\" and save it as a HTML file under \"File\" -> \"Download as\".  Include the \"helper.py\" and \"problem_unittests.py\" files in your submission."
   ]
  }
 ],
 "metadata": {
  "kernelspec": {
   "display_name": "Python 3",
   "language": "python",
   "name": "python3"
  },
  "language_info": {
   "codemirror_mode": {
    "name": "ipython",
    "version": 3
   },
   "file_extension": ".py",
   "mimetype": "text/x-python",
   "name": "python",
   "nbconvert_exporter": "python",
   "pygments_lexer": "ipython3",
   "version": "3.6.0"
  }
 },
 "nbformat": 4,
 "nbformat_minor": 0
}
